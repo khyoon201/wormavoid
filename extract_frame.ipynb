{
 "cells": [
  {
   "cell_type": "code",
   "execution_count": null,
   "id": "e7f64a2b",
   "metadata": {},
   "outputs": [],
   "source": [
    "import os\n",
    "import ffmpeg\n",
    "import tkinter as tk\n",
    "from tkinter import filedialog"
   ]
  },
  {
   "cell_type": "code",
   "execution_count": null,
   "id": "b7f77ffe",
   "metadata": {},
   "outputs": [],
   "source": [
    "root = tk.Tk()\n",
    "root.withdraw()  \n",
    "\n",
    "f = filedialog.askopenfilename()"
   ]
  },
  {
   "cell_type": "code",
   "execution_count": null,
   "id": "52f122ab",
   "metadata": {},
   "outputs": [],
   "source": [
    "#spit out frame pic first\n",
    "#must input file_path\n",
    "\n",
    "def extract_frame(file_path):\n",
    "    dir_path = os.path.dirname(file_path)\n",
    "    basename = os.path.basename(file_path)\n",
    "    name, extension = os.path.splitext(basename)\n",
    "\n",
    "    #extract a single frame to find coordinates of plates\n",
    "    frame = ffmpeg.input(file_path, ss=50)\n",
    "    folder = os.path.dirname(file_path)\n",
    "    output_frame = ffmpeg.output(frame, dir_path+'/'+name+'.jpeg', vframes=1, format='image2')\n",
    "    output_frame.run(capture_stdout=True)   "
   ]
  },
  {
   "cell_type": "code",
   "execution_count": null,
   "id": "ee8d6ff2",
   "metadata": {},
   "outputs": [],
   "source": [
    "extract_frame(f)"
   ]
  }
 ],
 "metadata": {
  "kernelspec": {
   "display_name": "Python 3 (ipykernel)",
   "language": "python",
   "name": "python3"
  },
  "language_info": {
   "codemirror_mode": {
    "name": "ipython",
    "version": 3
   },
   "file_extension": ".py",
   "mimetype": "text/x-python",
   "name": "python",
   "nbconvert_exporter": "python",
   "pygments_lexer": "ipython3",
   "version": "3.9.7"
  }
 },
 "nbformat": 4,
 "nbformat_minor": 5
}
